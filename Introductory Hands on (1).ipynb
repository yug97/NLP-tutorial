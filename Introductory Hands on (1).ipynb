{
 "cells": [
  {
   "cell_type": "code",
   "execution_count": 2,
   "metadata": {},
   "outputs": [],
   "source": [
    "from nltk.tokenize import sent_tokenize\n",
    "from nltk.tokenize import word_tokenize"
   ]
  },
  {
   "cell_type": "code",
   "execution_count": 3,
   "metadata": {},
   "outputs": [],
   "source": [
    "dataset = \"\"\"Hello Mr. Watson, how are you doing today?\n",
    "             The weather is awsome. The garden is green.\n",
    "             We should go out for a walk.\"\"\""
   ]
  },
  {
   "cell_type": "code",
   "execution_count": 6,
   "metadata": {},
   "outputs": [
    {
     "name": "stdout",
     "output_type": "stream",
     "text": [
      "['Hello Mr. Watson, how are you doing today?', 'The weather is awsome.', 'The garden is green.', 'We should go out for a walk.']\n"
     ]
    }
   ],
   "source": [
    "print(sent_tokenize(dataset))"
   ]
  },
  {
   "cell_type": "code",
   "execution_count": 7,
   "metadata": {},
   "outputs": [
    {
     "name": "stdout",
     "output_type": "stream",
     "text": [
      "Hello Mr. Watson, how are you doing today?\n",
      "The weather is awsome.\n",
      "The garden is green.\n",
      "We should go out for a walk.\n"
     ]
    }
   ],
   "source": [
    "for i in sent_tokenize(dataset):\n",
    "    print(i)"
   ]
  },
  {
   "cell_type": "code",
   "execution_count": 10,
   "metadata": {},
   "outputs": [
    {
     "name": "stdout",
     "output_type": "stream",
     "text": [
      "['Hello', 'Mr.', 'Watson', ',', 'how', 'are', 'you', 'doing', 'today', '?', 'The', 'weather', 'is', 'awsome', '.', 'The', 'garden', 'is', 'green', '.', 'We', 'should', 'go', 'out', 'for', 'a', 'walk', '.']\n",
      "Hello\n",
      "Mr.\n",
      "Watson\n",
      ",\n",
      "how\n",
      "are\n",
      "you\n",
      "doing\n",
      "today\n",
      "?\n",
      "The\n",
      "weather\n",
      "is\n",
      "awsome\n",
      ".\n",
      "The\n",
      "garden\n",
      "is\n",
      "green\n",
      ".\n",
      "We\n",
      "should\n",
      "go\n",
      "out\n",
      "for\n",
      "a\n",
      "walk\n",
      ".\n"
     ]
    }
   ],
   "source": [
    "print(word_tokenize(dataset))\n",
    "\n",
    "for i in word_tokenize(dataset):\n",
    "    print(i)"
   ]
  },
  {
   "cell_type": "code",
   "execution_count": 11,
   "metadata": {},
   "outputs": [],
   "source": [
    "from nltk.corpus import stopwords"
   ]
  },
  {
   "cell_type": "code",
   "execution_count": 13,
   "metadata": {},
   "outputs": [
    {
     "name": "stdout",
     "output_type": "stream",
     "text": [
      "{'then', 'those', \"isn't\", \"you're\", 'theirs', 'until', \"mustn't\", 'having', 'an', 'between', 'her', 'from', 'mightn', 'the', 'your', 'further', 'it', 'no', 'won', 'there', 'too', 'will', 'have', 'where', 'shan', 'because', 'above', 'y', 'him', 'through', 'don', \"should've\", 'now', 'that', 'he', 'than', 'didn', 'me', \"don't\", 'wasn', 'their', \"needn't\", 'we', 'but', 'how', \"she's\", 'a', 'ma', \"wasn't\", \"didn't\", 'yours', 'i', 'both', 'o', 'for', 'up', 'shouldn', 'during', 'once', 'before', \"won't\", 'mustn', 'his', 'this', \"you'll\", 'so', 'out', 'am', 'being', 'wouldn', 't', 'had', 'be', 'under', 'ain', 'ourselves', \"aren't\", 'whom', 'these', 'been', 'haven', 'himself', 'do', 'or', 'm', 'with', 'does', \"that'll\", 'any', 'has', 'and', 'she', \"shan't\", 'they', 'hasn', 'over', 'couldn', 'can', 'who', 'doing', 'some', 'll', 'were', \"hadn't\", \"you'd\", 'should', 'hadn', 'here', 'other', 'own', 'needn', 'when', 'just', 'ours', 'aren', 'isn', 'our', 'into', 'was', \"shouldn't\", \"hasn't\", 're', 'again', 've', 'about', 'of', 'in', 'yourselves', 'you', 'not', 'very', 'hers', 'most', \"couldn't\", 'such', 'itself', \"mightn't\", \"wouldn't\", 'few', \"doesn't\", 'is', 'by', 'my', 'below', 'on', 'down', 'weren', 'are', 'at', 'herself', 'more', 'doesn', 'did', 'all', \"haven't\", 'them', \"it's\", 'which', 'd', \"you've\", 'off', 'its', 'against', 'what', 'to', 'myself', 'each', 'same', \"weren't\", 'while', 'themselves', 'if', 'why', 'after', 'as', 'nor', 'yourself', 'only', 's'}\n"
     ]
    }
   ],
   "source": [
    "stop_words = set(stopwords.words(\"english\"))\n",
    "print(stop_words)"
   ]
  },
  {
   "cell_type": "code",
   "execution_count": 14,
   "metadata": {},
   "outputs": [
    {
     "name": "stdout",
     "output_type": "stream",
     "text": [
      "['Hello', 'Mr.', 'Watson', ',', 'today', '?', 'The', 'weather', 'awsome', '.', 'The', 'garden', 'green', '.', 'We', 'go', 'walk', '.']\n"
     ]
    }
   ],
   "source": [
    "filtered_sentence = []\n",
    "\n",
    "for i in word_tokenize(dataset):\n",
    "    if i not in stop_words:\n",
    "        filtered_sentence.append(i)\n",
    "\n",
    "print(filtered_sentence)"
   ]
  },
  {
   "cell_type": "code",
   "execution_count": 15,
   "metadata": {},
   "outputs": [],
   "source": [
    "from nltk.stem import PorterStemmer"
   ]
  },
  {
   "cell_type": "code",
   "execution_count": 18,
   "metadata": {},
   "outputs": [],
   "source": [
    "ps = PorterStemmer()\n",
    "dataset = [\"love\", \"lover\", \"loving\", \"loved\", \"lovingly\"]"
   ]
  },
  {
   "cell_type": "code",
   "execution_count": 19,
   "metadata": {},
   "outputs": [
    {
     "name": "stdout",
     "output_type": "stream",
     "text": [
      "love\n",
      "lover\n",
      "love\n",
      "love\n",
      "lovingli\n"
     ]
    }
   ],
   "source": [
    "for w in dataset:\n",
    "    print(ps.stem(w))"
   ]
  },
  {
   "cell_type": "code",
   "execution_count": 20,
   "metadata": {},
   "outputs": [],
   "source": [
    "new_dataset = \"\"\" It feels very special when you are loving someone.\n",
    "                  We care for our loved ones.\n",
    "                  Specially when we love each othe unconditionally \"\"\""
   ]
  },
  {
   "cell_type": "code",
   "execution_count": 21,
   "metadata": {},
   "outputs": [
    {
     "name": "stdout",
     "output_type": "stream",
     "text": [
      "It\n",
      "feel\n",
      "veri\n",
      "special\n",
      "when\n",
      "you\n",
      "are\n",
      "love\n",
      "someon\n",
      ".\n",
      "We\n",
      "care\n",
      "for\n",
      "our\n",
      "love\n",
      "one\n",
      ".\n",
      "special\n",
      "when\n",
      "we\n",
      "love\n",
      "each\n",
      "oth\n",
      "uncondit\n"
     ]
    }
   ],
   "source": [
    "words = word_tokenize(new_dataset)\n",
    "for w in words:\n",
    "    print(ps.stem(w))"
   ]
  },
  {
   "cell_type": "code",
   "execution_count": 22,
   "metadata": {},
   "outputs": [],
   "source": [
    "from nltk.tag import pos_tag"
   ]
  },
  {
   "cell_type": "code",
   "execution_count": 23,
   "metadata": {},
   "outputs": [],
   "source": [
    "dataset = \"\"\"Taj Mahal is one of the world’s most celebrated structures \n",
    "          in the world.\n",
    "          It is a stunning symbol of Indian rich history\"\"\"\n",
    "new_data = word_tokenize(dataset)"
   ]
  },
  {
   "cell_type": "code",
   "execution_count": 33,
   "metadata": {},
   "outputs": [],
   "source": [
    "postagging = pos_tag(new_data)"
   ]
  },
  {
   "cell_type": "code",
   "execution_count": 34,
   "metadata": {},
   "outputs": [],
   "source": [
    "from nltk.chunk import RegexpParser"
   ]
  },
  {
   "cell_type": "code",
   "execution_count": 35,
   "metadata": {},
   "outputs": [],
   "source": [
    "sequence_chunk = \"\"\" \n",
    "           chunk:\n",
    "               {<NNPS>+}\n",
    "               {<NNP>+}\n",
    "               {<NN>+} \"\"\""
   ]
  },
  {
   "cell_type": "code",
   "execution_count": 38,
   "metadata": {},
   "outputs": [],
   "source": [
    "from nltk.corpus import wordnet"
   ]
  },
  {
   "cell_type": "code",
   "execution_count": 48,
   "metadata": {},
   "outputs": [
    {
     "name": "stdout",
     "output_type": "stream",
     "text": [
      "[Synset('plan.n.01'), Synset('program.n.02'), Synset('broadcast.n.02'), Synset('platform.n.02'), Synset('program.n.05'), Synset('course_of_study.n.01'), Synset('program.n.07'), Synset('program.n.08'), Synset('program.v.01'), Synset('program.v.02')]\n",
      "Synset('plan.n.01')\n",
      "[Lemma('plan.n.01.plan'), Lemma('plan.n.01.program'), Lemma('plan.n.01.programme')]\n",
      "plan\n",
      "a series of steps to be carried out or goals to be accomplished\n",
      "['they drew up a six-step plan', 'they discussed plans for a new bond issue']\n"
     ]
    }
   ],
   "source": [
    "syns = wordnet.synsets(\"program\")\n",
    "print(syns)\n",
    "print(syns[0])\n",
    "print(syns[0].lemmas())\n",
    "print(syns[0].lemmas()[0].name())\n",
    "print(syns[0].definition())\n",
    "print(syns[0].examples())"
   ]
  },
  {
   "cell_type": "code",
   "execution_count": null,
   "metadata": {},
   "outputs": [],
   "source": [
    "synonyms = []\n",
    "antonyms = []\n",
    "\n",
    "for syn in wordnet.synsets(\"good\"):\n",
    "    for syn"
   ]
  }
 ],
 "metadata": {
  "kernelspec": {
   "display_name": "Python 3",
   "language": "python",
   "name": "python3"
  },
  "language_info": {
   "codemirror_mode": {
    "name": "ipython",
    "version": 3
   },
   "file_extension": ".py",
   "mimetype": "text/x-python",
   "name": "python",
   "nbconvert_exporter": "python",
   "pygments_lexer": "ipython3",
   "version": "3.7.1"
  }
 },
 "nbformat": 4,
 "nbformat_minor": 2
}
